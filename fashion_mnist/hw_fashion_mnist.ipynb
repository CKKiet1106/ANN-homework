{
  "nbformat": 4,
  "nbformat_minor": 0,
  "metadata": {
    "colab": {
      "provenance": []
    },
    "kernelspec": {
      "name": "python3",
      "display_name": "Python 3"
    },
    "language_info": {
      "name": "python"
    }
  },
  "cells": [
    {
      "cell_type": "code",
      "execution_count": 68,
      "metadata": {
        "colab": {
          "base_uri": "https://localhost:8080/"
        },
        "id": "2d5jSJ_bNxSO",
        "outputId": "60f82e43-1356-44ea-c63a-395f66a828e5"
      },
      "outputs": [
        {
          "output_type": "stream",
          "name": "stdout",
          "text": [
            "(60000, 28, 28)\n",
            "(10000, 28, 28)\n"
          ]
        }
      ],
      "source": [
        "from keras.datasets import fashion_mnist  # Corrected the typo from 'mniest' to 'mnist'\n",
        "(x_train, y_train), (x_test, y_test) = fashion_mnist.load_data()\n",
        "print(x_train.shape)\n",
        "print(x_test.shape)"
      ]
    },
    {
      "cell_type": "code",
      "source": [
        "x_train = x_train.reshape(60000, 28*28)\n",
        "x_test = x_test.reshape(10000, 28*28)\n",
        "x_train = x_train.astype('float32') / 255\n",
        "x_test = x_test.astype('float32') / 255\n",
        "from keras.utils import to_categorical\n",
        "y_train = to_categorical(y_train)\n",
        "y_test = to_categorical(y_test)"
      ],
      "metadata": {
        "id": "biKv7uQkPwtF"
      },
      "execution_count": 70,
      "outputs": []
    },
    {
      "cell_type": "code",
      "source": [
        "#tao mo hinh\n",
        "from tensorflow.keras.models import Sequential  # Import Sequential from tensorflow.keras.models\n",
        "from tensorflow.keras.layers import Dense  # Import Dense from tensorflow.keras.layers\n",
        "model = Sequential()\n",
        "model.add(Dense(512, activation='relu', input_shape=(784,)))\n",
        "model.add(Dense(256, activation='relu'))\n",
        "model.add(Dense(112, activation='relu'))\n",
        "model.add(Dense(56, activation='relu'))\n",
        "model.add(Dense(28, activation='relu'))\n",
        "model.add(Dense(10, activation='softmax'))"
      ],
      "metadata": {
        "id": "LF6KmCLCP8Ak"
      },
      "execution_count": 75,
      "outputs": []
    },
    {
      "cell_type": "code",
      "source": [
        "model.compile(optimizer='adam',loss='categorical_crossentropy',metrics=['accuracy'])"
      ],
      "metadata": {
        "id": "O77wi6bjQKTE"
      },
      "execution_count": 76,
      "outputs": []
    },
    {
      "cell_type": "code",
      "source": [
        "history=model.fit(x_train,y_train,epochs=200,batch_size=100,validation_data=(x_test,y_test))"
      ],
      "metadata": {
        "colab": {
          "base_uri": "https://localhost:8080/"
        },
        "id": "yYm_YQSZQ7kU",
        "outputId": "89e50681-4d84-4002-816b-a3bc06131db8"
      },
      "execution_count": 77,
      "outputs": [
        {
          "output_type": "stream",
          "name": "stdout",
          "text": [
            "Epoch 1/200\n",
            "\u001b[1m600/600\u001b[0m \u001b[32m━━━━━━━━━━━━━━━━━━━━\u001b[0m\u001b[37m\u001b[0m \u001b[1m11s\u001b[0m 16ms/step - accuracy: 0.7225 - loss: 0.7678 - val_accuracy: 0.8167 - val_loss: 0.5244\n",
            "Epoch 2/200\n",
            "\u001b[1m600/600\u001b[0m \u001b[32m━━━━━━━━━━━━━━━━━━━━\u001b[0m\u001b[37m\u001b[0m \u001b[1m10s\u001b[0m 15ms/step - accuracy: 0.8639 - loss: 0.3786 - val_accuracy: 0.8685 - val_loss: 0.3744\n",
            "Epoch 3/200\n",
            "\u001b[1m600/600\u001b[0m \u001b[32m━━━━━━━━━━━━━━━━━━━━\u001b[0m\u001b[37m\u001b[0m \u001b[1m9s\u001b[0m 15ms/step - accuracy: 0.8784 - loss: 0.3339 - val_accuracy: 0.8607 - val_loss: 0.3840\n",
            "Epoch 4/200\n",
            "\u001b[1m600/600\u001b[0m \u001b[32m━━━━━━━━━━━━━━━━━━━━\u001b[0m\u001b[37m\u001b[0m \u001b[1m9s\u001b[0m 13ms/step - accuracy: 0.8897 - loss: 0.3017 - val_accuracy: 0.8728 - val_loss: 0.3561\n",
            "Epoch 5/200\n",
            "\u001b[1m600/600\u001b[0m \u001b[32m━━━━━━━━━━━━━━━━━━━━\u001b[0m\u001b[37m\u001b[0m \u001b[1m10s\u001b[0m 13ms/step - accuracy: 0.8928 - loss: 0.2921 - val_accuracy: 0.8746 - val_loss: 0.3531\n",
            "Epoch 6/200\n",
            "\u001b[1m600/600\u001b[0m \u001b[32m━━━━━━━━━━━━━━━━━━━━\u001b[0m\u001b[37m\u001b[0m \u001b[1m12s\u001b[0m 15ms/step - accuracy: 0.9004 - loss: 0.2683 - val_accuracy: 0.8765 - val_loss: 0.3418\n",
            "Epoch 7/200\n",
            "\u001b[1m600/600\u001b[0m \u001b[32m━━━━━━━━━━━━━━━━━━━━\u001b[0m\u001b[37m\u001b[0m \u001b[1m9s\u001b[0m 15ms/step - accuracy: 0.9033 - loss: 0.2600 - val_accuracy: 0.8793 - val_loss: 0.3348\n",
            "Epoch 8/200\n",
            "\u001b[1m600/600\u001b[0m \u001b[32m━━━━━━━━━━━━━━━━━━━━\u001b[0m\u001b[37m\u001b[0m \u001b[1m10s\u001b[0m 15ms/step - accuracy: 0.9038 - loss: 0.2536 - val_accuracy: 0.8802 - val_loss: 0.3441\n",
            "Epoch 9/200\n",
            "\u001b[1m600/600\u001b[0m \u001b[32m━━━━━━━━━━━━━━━━━━━━\u001b[0m\u001b[37m\u001b[0m \u001b[1m9s\u001b[0m 13ms/step - accuracy: 0.9122 - loss: 0.2384 - val_accuracy: 0.8831 - val_loss: 0.3333\n",
            "Epoch 10/200\n",
            "\u001b[1m600/600\u001b[0m \u001b[32m━━━━━━━━━━━━━━━━━━━━\u001b[0m\u001b[37m\u001b[0m \u001b[1m9s\u001b[0m 15ms/step - accuracy: 0.9119 - loss: 0.2324 - val_accuracy: 0.8906 - val_loss: 0.3200\n",
            "Epoch 11/200\n",
            "\u001b[1m600/600\u001b[0m \u001b[32m━━━━━━━━━━━━━━━━━━━━\u001b[0m\u001b[37m\u001b[0m \u001b[1m10s\u001b[0m 15ms/step - accuracy: 0.9166 - loss: 0.2197 - val_accuracy: 0.8845 - val_loss: 0.3280\n",
            "Epoch 12/200\n",
            "\u001b[1m600/600\u001b[0m \u001b[32m━━━━━━━━━━━━━━━━━━━━\u001b[0m\u001b[37m\u001b[0m \u001b[1m8s\u001b[0m 13ms/step - accuracy: 0.9200 - loss: 0.2095 - val_accuracy: 0.8838 - val_loss: 0.3437\n",
            "Epoch 13/200\n",
            "\u001b[1m600/600\u001b[0m \u001b[32m━━━━━━━━━━━━━━━━━━━━\u001b[0m\u001b[37m\u001b[0m \u001b[1m9s\u001b[0m 15ms/step - accuracy: 0.9217 - loss: 0.2083 - val_accuracy: 0.8880 - val_loss: 0.3211\n",
            "Epoch 14/200\n",
            "\u001b[1m600/600\u001b[0m \u001b[32m━━━━━━━━━━━━━━━━━━━━\u001b[0m\u001b[37m\u001b[0m \u001b[1m10s\u001b[0m 15ms/step - accuracy: 0.9247 - loss: 0.1994 - val_accuracy: 0.8889 - val_loss: 0.3322\n",
            "Epoch 15/200\n",
            "\u001b[1m600/600\u001b[0m \u001b[32m━━━━━━━━━━━━━━━━━━━━\u001b[0m\u001b[37m\u001b[0m \u001b[1m10s\u001b[0m 15ms/step - accuracy: 0.9277 - loss: 0.1876 - val_accuracy: 0.8865 - val_loss: 0.3400\n",
            "Epoch 16/200\n",
            "\u001b[1m600/600\u001b[0m \u001b[32m━━━━━━━━━━━━━━━━━━━━\u001b[0m\u001b[37m\u001b[0m \u001b[1m8s\u001b[0m 13ms/step - accuracy: 0.9289 - loss: 0.1873 - val_accuracy: 0.8891 - val_loss: 0.3423\n",
            "Epoch 17/200\n",
            "\u001b[1m600/600\u001b[0m \u001b[32m━━━━━━━━━━━━━━━━━━━━\u001b[0m\u001b[37m\u001b[0m \u001b[1m9s\u001b[0m 15ms/step - accuracy: 0.9333 - loss: 0.1769 - val_accuracy: 0.8873 - val_loss: 0.3517\n",
            "Epoch 18/200\n",
            "\u001b[1m600/600\u001b[0m \u001b[32m━━━━━━━━━━━━━━━━━━━━\u001b[0m\u001b[37m\u001b[0m \u001b[1m9s\u001b[0m 15ms/step - accuracy: 0.9315 - loss: 0.1736 - val_accuracy: 0.8906 - val_loss: 0.3564\n",
            "Epoch 19/200\n",
            "\u001b[1m600/600\u001b[0m \u001b[32m━━━━━━━━━━━━━━━━━━━━\u001b[0m\u001b[37m\u001b[0m \u001b[1m8s\u001b[0m 13ms/step - accuracy: 0.9375 - loss: 0.1609 - val_accuracy: 0.8899 - val_loss: 0.3761\n",
            "Epoch 20/200\n",
            "\u001b[1m600/600\u001b[0m \u001b[32m━━━━━━━━━━━━━━━━━━━━\u001b[0m\u001b[37m\u001b[0m \u001b[1m9s\u001b[0m 15ms/step - accuracy: 0.9362 - loss: 0.1671 - val_accuracy: 0.8903 - val_loss: 0.3594\n",
            "Epoch 21/200\n",
            "\u001b[1m600/600\u001b[0m \u001b[32m━━━━━━━━━━━━━━━━━━━━\u001b[0m\u001b[37m\u001b[0m \u001b[1m10s\u001b[0m 15ms/step - accuracy: 0.9400 - loss: 0.1588 - val_accuracy: 0.8861 - val_loss: 0.3932\n",
            "Epoch 22/200\n",
            "\u001b[1m600/600\u001b[0m \u001b[32m━━━━━━━━━━━━━━━━━━━━\u001b[0m\u001b[37m\u001b[0m \u001b[1m8s\u001b[0m 13ms/step - accuracy: 0.9394 - loss: 0.1562 - val_accuracy: 0.8939 - val_loss: 0.3835\n",
            "Epoch 23/200\n",
            "\u001b[1m600/600\u001b[0m \u001b[32m━━━━━━━━━━━━━━━━━━━━\u001b[0m\u001b[37m\u001b[0m \u001b[1m9s\u001b[0m 15ms/step - accuracy: 0.9439 - loss: 0.1471 - val_accuracy: 0.8906 - val_loss: 0.3744\n",
            "Epoch 24/200\n",
            "\u001b[1m600/600\u001b[0m \u001b[32m━━━━━━━━━━━━━━━━━━━━\u001b[0m\u001b[37m\u001b[0m \u001b[1m9s\u001b[0m 15ms/step - accuracy: 0.9440 - loss: 0.1458 - val_accuracy: 0.8899 - val_loss: 0.3944\n",
            "Epoch 25/200\n",
            "\u001b[1m600/600\u001b[0m \u001b[32m━━━━━━━━━━━━━━━━━━━━\u001b[0m\u001b[37m\u001b[0m \u001b[1m10s\u001b[0m 15ms/step - accuracy: 0.9443 - loss: 0.1415 - val_accuracy: 0.8937 - val_loss: 0.3795\n",
            "Epoch 26/200\n",
            "\u001b[1m600/600\u001b[0m \u001b[32m━━━━━━━━━━━━━━━━━━━━\u001b[0m\u001b[37m\u001b[0m \u001b[1m8s\u001b[0m 14ms/step - accuracy: 0.9489 - loss: 0.1333 - val_accuracy: 0.8898 - val_loss: 0.3841\n",
            "Epoch 27/200\n",
            "\u001b[1m600/600\u001b[0m \u001b[32m━━━━━━━━━━━━━━━━━━━━\u001b[0m\u001b[37m\u001b[0m \u001b[1m11s\u001b[0m 15ms/step - accuracy: 0.9474 - loss: 0.1341 - val_accuracy: 0.8872 - val_loss: 0.4284\n",
            "Epoch 28/200\n",
            "\u001b[1m600/600\u001b[0m \u001b[32m━━━━━━━━━━━━━━━━━━━━\u001b[0m\u001b[37m\u001b[0m \u001b[1m10s\u001b[0m 15ms/step - accuracy: 0.9469 - loss: 0.1358 - val_accuracy: 0.8940 - val_loss: 0.3722\n",
            "Epoch 29/200\n",
            "\u001b[1m600/600\u001b[0m \u001b[32m━━━━━━━━━━━━━━━━━━━━\u001b[0m\u001b[37m\u001b[0m \u001b[1m10s\u001b[0m 15ms/step - accuracy: 0.9531 - loss: 0.1201 - val_accuracy: 0.8923 - val_loss: 0.4191\n",
            "Epoch 30/200\n",
            "\u001b[1m600/600\u001b[0m \u001b[32m━━━━━━━━━━━━━━━━━━━━\u001b[0m\u001b[37m\u001b[0m \u001b[1m8s\u001b[0m 13ms/step - accuracy: 0.9511 - loss: 0.1268 - val_accuracy: 0.8955 - val_loss: 0.3871\n",
            "Epoch 31/200\n",
            "\u001b[1m600/600\u001b[0m \u001b[32m━━━━━━━━━━━━━━━━━━━━\u001b[0m\u001b[37m\u001b[0m \u001b[1m11s\u001b[0m 15ms/step - accuracy: 0.9535 - loss: 0.1204 - val_accuracy: 0.8950 - val_loss: 0.4250\n",
            "Epoch 32/200\n",
            "\u001b[1m600/600\u001b[0m \u001b[32m━━━━━━━━━━━━━━━━━━━━\u001b[0m\u001b[37m\u001b[0m \u001b[1m9s\u001b[0m 15ms/step - accuracy: 0.9545 - loss: 0.1176 - val_accuracy: 0.8979 - val_loss: 0.4525\n",
            "Epoch 33/200\n",
            "\u001b[1m600/600\u001b[0m \u001b[32m━━━━━━━━━━━━━━━━━━━━\u001b[0m\u001b[37m\u001b[0m \u001b[1m9s\u001b[0m 14ms/step - accuracy: 0.9578 - loss: 0.1093 - val_accuracy: 0.8961 - val_loss: 0.4399\n",
            "Epoch 34/200\n",
            "\u001b[1m600/600\u001b[0m \u001b[32m━━━━━━━━━━━━━━━━━━━━\u001b[0m\u001b[37m\u001b[0m \u001b[1m10s\u001b[0m 13ms/step - accuracy: 0.9582 - loss: 0.1063 - val_accuracy: 0.8969 - val_loss: 0.4140\n",
            "Epoch 35/200\n",
            "\u001b[1m600/600\u001b[0m \u001b[32m━━━━━━━━━━━━━━━━━━━━\u001b[0m\u001b[37m\u001b[0m \u001b[1m9s\u001b[0m 15ms/step - accuracy: 0.9576 - loss: 0.1100 - val_accuracy: 0.8927 - val_loss: 0.4376\n",
            "Epoch 36/200\n",
            "\u001b[1m600/600\u001b[0m \u001b[32m━━━━━━━━━━━━━━━━━━━━\u001b[0m\u001b[37m\u001b[0m \u001b[1m9s\u001b[0m 15ms/step - accuracy: 0.9615 - loss: 0.0993 - val_accuracy: 0.8932 - val_loss: 0.4696\n",
            "Epoch 37/200\n",
            "\u001b[1m600/600\u001b[0m \u001b[32m━━━━━━━━━━━━━━━━━━━━\u001b[0m\u001b[37m\u001b[0m \u001b[1m8s\u001b[0m 14ms/step - accuracy: 0.9599 - loss: 0.1030 - val_accuracy: 0.8961 - val_loss: 0.4794\n",
            "Epoch 38/200\n",
            "\u001b[1m600/600\u001b[0m \u001b[32m━━━━━━━━━━━━━━━━━━━━\u001b[0m\u001b[37m\u001b[0m \u001b[1m9s\u001b[0m 15ms/step - accuracy: 0.9632 - loss: 0.0956 - val_accuracy: 0.8942 - val_loss: 0.5160\n",
            "Epoch 39/200\n",
            "\u001b[1m600/600\u001b[0m \u001b[32m━━━━━━━━━━━━━━━━━━━━\u001b[0m\u001b[37m\u001b[0m \u001b[1m10s\u001b[0m 15ms/step - accuracy: 0.9604 - loss: 0.1018 - val_accuracy: 0.8949 - val_loss: 0.4690\n",
            "Epoch 40/200\n",
            "\u001b[1m600/600\u001b[0m \u001b[32m━━━━━━━━━━━━━━━━━━━━\u001b[0m\u001b[37m\u001b[0m \u001b[1m10s\u001b[0m 16ms/step - accuracy: 0.9642 - loss: 0.0931 - val_accuracy: 0.8954 - val_loss: 0.4729\n",
            "Epoch 41/200\n",
            "\u001b[1m600/600\u001b[0m \u001b[32m━━━━━━━━━━━━━━━━━━━━\u001b[0m\u001b[37m\u001b[0m \u001b[1m8s\u001b[0m 13ms/step - accuracy: 0.9674 - loss: 0.0870 - val_accuracy: 0.8910 - val_loss: 0.5229\n",
            "Epoch 42/200\n",
            "\u001b[1m600/600\u001b[0m \u001b[32m━━━━━━━━━━━━━━━━━━━━\u001b[0m\u001b[37m\u001b[0m \u001b[1m11s\u001b[0m 14ms/step - accuracy: 0.9643 - loss: 0.0918 - val_accuracy: 0.8966 - val_loss: 0.4954\n",
            "Epoch 43/200\n",
            "\u001b[1m600/600\u001b[0m \u001b[32m━━━━━━━━━━━━━━━━━━━━\u001b[0m\u001b[37m\u001b[0m \u001b[1m11s\u001b[0m 15ms/step - accuracy: 0.9665 - loss: 0.0860 - val_accuracy: 0.8983 - val_loss: 0.4843\n",
            "Epoch 44/200\n",
            "\u001b[1m600/600\u001b[0m \u001b[32m━━━━━━━━━━━━━━━━━━━━\u001b[0m\u001b[37m\u001b[0m \u001b[1m9s\u001b[0m 15ms/step - accuracy: 0.9665 - loss: 0.0858 - val_accuracy: 0.8923 - val_loss: 0.4712\n",
            "Epoch 45/200\n",
            "\u001b[1m600/600\u001b[0m \u001b[32m━━━━━━━━━━━━━━━━━━━━\u001b[0m\u001b[37m\u001b[0m \u001b[1m9s\u001b[0m 13ms/step - accuracy: 0.9671 - loss: 0.0830 - val_accuracy: 0.8961 - val_loss: 0.5077\n",
            "Epoch 46/200\n",
            "\u001b[1m600/600\u001b[0m \u001b[32m━━━━━━━━━━━━━━━━━━━━\u001b[0m\u001b[37m\u001b[0m \u001b[1m9s\u001b[0m 15ms/step - accuracy: 0.9705 - loss: 0.0781 - val_accuracy: 0.8860 - val_loss: 0.6190\n",
            "Epoch 47/200\n",
            "\u001b[1m600/600\u001b[0m \u001b[32m━━━━━━━━━━━━━━━━━━━━\u001b[0m\u001b[37m\u001b[0m \u001b[1m9s\u001b[0m 15ms/step - accuracy: 0.9701 - loss: 0.0781 - val_accuracy: 0.8985 - val_loss: 0.5146\n",
            "Epoch 48/200\n",
            "\u001b[1m600/600\u001b[0m \u001b[32m━━━━━━━━━━━━━━━━━━━━\u001b[0m\u001b[37m\u001b[0m \u001b[1m10s\u001b[0m 15ms/step - accuracy: 0.9687 - loss: 0.0825 - val_accuracy: 0.8906 - val_loss: 0.5560\n",
            "Epoch 49/200\n",
            "\u001b[1m600/600\u001b[0m \u001b[32m━━━━━━━━━━━━━━━━━━━━\u001b[0m\u001b[37m\u001b[0m \u001b[1m9s\u001b[0m 13ms/step - accuracy: 0.9709 - loss: 0.0766 - val_accuracy: 0.9003 - val_loss: 0.5193\n",
            "Epoch 50/200\n",
            "\u001b[1m600/600\u001b[0m \u001b[32m━━━━━━━━━━━━━━━━━━━━\u001b[0m\u001b[37m\u001b[0m \u001b[1m11s\u001b[0m 14ms/step - accuracy: 0.9733 - loss: 0.0712 - val_accuracy: 0.8985 - val_loss: 0.5213\n",
            "Epoch 51/200\n",
            "\u001b[1m600/600\u001b[0m \u001b[32m━━━━━━━━━━━━━━━━━━━━\u001b[0m\u001b[37m\u001b[0m \u001b[1m11s\u001b[0m 15ms/step - accuracy: 0.9748 - loss: 0.0678 - val_accuracy: 0.8972 - val_loss: 0.5117\n",
            "Epoch 52/200\n",
            "\u001b[1m600/600\u001b[0m \u001b[32m━━━━━━━━━━━━━━━━━━━━\u001b[0m\u001b[37m\u001b[0m \u001b[1m9s\u001b[0m 15ms/step - accuracy: 0.9720 - loss: 0.0714 - val_accuracy: 0.8934 - val_loss: 0.5200\n",
            "Epoch 53/200\n",
            "\u001b[1m600/600\u001b[0m \u001b[32m━━━━━━━━━━━━━━━━━━━━\u001b[0m\u001b[37m\u001b[0m \u001b[1m8s\u001b[0m 13ms/step - accuracy: 0.9730 - loss: 0.0669 - val_accuracy: 0.8959 - val_loss: 0.5597\n",
            "Epoch 54/200\n",
            "\u001b[1m600/600\u001b[0m \u001b[32m━━━━━━━━━━━━━━━━━━━━\u001b[0m\u001b[37m\u001b[0m \u001b[1m10s\u001b[0m 13ms/step - accuracy: 0.9733 - loss: 0.0693 - val_accuracy: 0.8927 - val_loss: 0.6115\n",
            "Epoch 55/200\n",
            "\u001b[1m600/600\u001b[0m \u001b[32m━━━━━━━━━━━━━━━━━━━━\u001b[0m\u001b[37m\u001b[0m \u001b[1m11s\u001b[0m 14ms/step - accuracy: 0.9721 - loss: 0.0743 - val_accuracy: 0.8938 - val_loss: 0.5751\n",
            "Epoch 56/200\n",
            "\u001b[1m600/600\u001b[0m \u001b[32m━━━━━━━━━━━━━━━━━━━━\u001b[0m\u001b[37m\u001b[0m \u001b[1m9s\u001b[0m 16ms/step - accuracy: 0.9757 - loss: 0.0640 - val_accuracy: 0.8948 - val_loss: 0.5510\n",
            "Epoch 57/200\n",
            "\u001b[1m600/600\u001b[0m \u001b[32m━━━━━━━━━━━━━━━━━━━━\u001b[0m\u001b[37m\u001b[0m \u001b[1m9s\u001b[0m 15ms/step - accuracy: 0.9777 - loss: 0.0569 - val_accuracy: 0.8946 - val_loss: 0.5626\n",
            "Epoch 58/200\n",
            "\u001b[1m600/600\u001b[0m \u001b[32m━━━━━━━━━━━━━━━━━━━━\u001b[0m\u001b[37m\u001b[0m \u001b[1m8s\u001b[0m 13ms/step - accuracy: 0.9761 - loss: 0.0630 - val_accuracy: 0.8952 - val_loss: 0.5502\n",
            "Epoch 59/200\n",
            "\u001b[1m600/600\u001b[0m \u001b[32m━━━━━━━━━━━━━━━━━━━━\u001b[0m\u001b[37m\u001b[0m \u001b[1m11s\u001b[0m 15ms/step - accuracy: 0.9765 - loss: 0.0625 - val_accuracy: 0.8932 - val_loss: 0.5847\n",
            "Epoch 60/200\n",
            "\u001b[1m600/600\u001b[0m \u001b[32m━━━━━━━━━━━━━━━━━━━━\u001b[0m\u001b[37m\u001b[0m \u001b[1m11s\u001b[0m 16ms/step - accuracy: 0.9788 - loss: 0.0570 - val_accuracy: 0.8948 - val_loss: 0.5738\n",
            "Epoch 61/200\n",
            "\u001b[1m600/600\u001b[0m \u001b[32m━━━━━━━━━━━━━━━━━━━━\u001b[0m\u001b[37m\u001b[0m \u001b[1m10s\u001b[0m 15ms/step - accuracy: 0.9776 - loss: 0.0596 - val_accuracy: 0.8895 - val_loss: 0.5755\n",
            "Epoch 62/200\n",
            "\u001b[1m600/600\u001b[0m \u001b[32m━━━━━━━━━━━━━━━━━━━━\u001b[0m\u001b[37m\u001b[0m \u001b[1m9s\u001b[0m 14ms/step - accuracy: 0.9791 - loss: 0.0555 - val_accuracy: 0.8952 - val_loss: 0.6015\n",
            "Epoch 63/200\n",
            "\u001b[1m600/600\u001b[0m \u001b[32m━━━━━━━━━━━━━━━━━━━━\u001b[0m\u001b[37m\u001b[0m \u001b[1m10s\u001b[0m 13ms/step - accuracy: 0.9750 - loss: 0.0678 - val_accuracy: 0.8967 - val_loss: 0.5690\n",
            "Epoch 64/200\n",
            "\u001b[1m600/600\u001b[0m \u001b[32m━━━━━━━━━━━━━━━━━━━━\u001b[0m\u001b[37m\u001b[0m \u001b[1m11s\u001b[0m 14ms/step - accuracy: 0.9799 - loss: 0.0528 - val_accuracy: 0.8931 - val_loss: 0.6830\n",
            "Epoch 65/200\n",
            "\u001b[1m600/600\u001b[0m \u001b[32m━━━━━━━━━━━━━━━━━━━━\u001b[0m\u001b[37m\u001b[0m \u001b[1m9s\u001b[0m 15ms/step - accuracy: 0.9789 - loss: 0.0564 - val_accuracy: 0.8923 - val_loss: 0.5992\n",
            "Epoch 66/200\n",
            "\u001b[1m600/600\u001b[0m \u001b[32m━━━━━━━━━━━━━━━━━━━━\u001b[0m\u001b[37m\u001b[0m \u001b[1m10s\u001b[0m 15ms/step - accuracy: 0.9808 - loss: 0.0513 - val_accuracy: 0.8922 - val_loss: 0.6530\n",
            "Epoch 67/200\n",
            "\u001b[1m600/600\u001b[0m \u001b[32m━━━━━━━━━━━━━━━━━━━━\u001b[0m\u001b[37m\u001b[0m \u001b[1m9s\u001b[0m 13ms/step - accuracy: 0.9796 - loss: 0.0517 - val_accuracy: 0.8949 - val_loss: 0.5625\n",
            "Epoch 68/200\n",
            "\u001b[1m600/600\u001b[0m \u001b[32m━━━━━━━━━━━━━━━━━━━━\u001b[0m\u001b[37m\u001b[0m \u001b[1m9s\u001b[0m 15ms/step - accuracy: 0.9810 - loss: 0.0512 - val_accuracy: 0.8966 - val_loss: 0.6104\n",
            "Epoch 69/200\n",
            "\u001b[1m600/600\u001b[0m \u001b[32m━━━━━━━━━━━━━━━━━━━━\u001b[0m\u001b[37m\u001b[0m \u001b[1m9s\u001b[0m 15ms/step - accuracy: 0.9812 - loss: 0.0493 - val_accuracy: 0.8917 - val_loss: 0.6478\n",
            "Epoch 70/200\n",
            "\u001b[1m600/600\u001b[0m \u001b[32m━━━━━━━━━━━━━━━━━━━━\u001b[0m\u001b[37m\u001b[0m \u001b[1m8s\u001b[0m 13ms/step - accuracy: 0.9822 - loss: 0.0473 - val_accuracy: 0.8942 - val_loss: 0.6425\n",
            "Epoch 71/200\n",
            "\u001b[1m600/600\u001b[0m \u001b[32m━━━━━━━━━━━━━━━━━━━━\u001b[0m\u001b[37m\u001b[0m \u001b[1m9s\u001b[0m 15ms/step - accuracy: 0.9813 - loss: 0.0482 - val_accuracy: 0.8948 - val_loss: 0.6254\n",
            "Epoch 72/200\n",
            "\u001b[1m600/600\u001b[0m \u001b[32m━━━━━━━━━━━━━━━━━━━━\u001b[0m\u001b[37m\u001b[0m \u001b[1m9s\u001b[0m 15ms/step - accuracy: 0.9844 - loss: 0.0431 - val_accuracy: 0.8933 - val_loss: 0.6575\n",
            "Epoch 73/200\n",
            "\u001b[1m600/600\u001b[0m \u001b[32m━━━━━━━━━━━━━━━━━━━━\u001b[0m\u001b[37m\u001b[0m \u001b[1m10s\u001b[0m 15ms/step - accuracy: 0.9844 - loss: 0.0425 - val_accuracy: 0.8958 - val_loss: 0.6536\n",
            "Epoch 74/200\n",
            "\u001b[1m600/600\u001b[0m \u001b[32m━━━━━━━━━━━━━━━━━━━━\u001b[0m\u001b[37m\u001b[0m \u001b[1m8s\u001b[0m 13ms/step - accuracy: 0.9842 - loss: 0.0425 - val_accuracy: 0.8935 - val_loss: 0.6042\n",
            "Epoch 75/200\n",
            "\u001b[1m600/600\u001b[0m \u001b[32m━━━━━━━━━━━━━━━━━━━━\u001b[0m\u001b[37m\u001b[0m \u001b[1m11s\u001b[0m 15ms/step - accuracy: 0.9834 - loss: 0.0445 - val_accuracy: 0.8942 - val_loss: 0.5988\n",
            "Epoch 76/200\n",
            "\u001b[1m600/600\u001b[0m \u001b[32m━━━━━━━━━━━━━━━━━━━━\u001b[0m\u001b[37m\u001b[0m \u001b[1m9s\u001b[0m 15ms/step - accuracy: 0.9850 - loss: 0.0420 - val_accuracy: 0.8958 - val_loss: 0.6422\n",
            "Epoch 77/200\n",
            "\u001b[1m600/600\u001b[0m \u001b[32m━━━━━━━━━━━━━━━━━━━━\u001b[0m\u001b[37m\u001b[0m \u001b[1m10s\u001b[0m 15ms/step - accuracy: 0.9822 - loss: 0.0484 - val_accuracy: 0.8927 - val_loss: 0.6566\n",
            "Epoch 78/200\n",
            "\u001b[1m600/600\u001b[0m \u001b[32m━━━━━━━━━━━━━━━━━━━━\u001b[0m\u001b[37m\u001b[0m \u001b[1m9s\u001b[0m 13ms/step - accuracy: 0.9854 - loss: 0.0385 - val_accuracy: 0.8954 - val_loss: 0.6223\n",
            "Epoch 79/200\n",
            "\u001b[1m600/600\u001b[0m \u001b[32m━━━━━━━━━━━━━━━━━━━━\u001b[0m\u001b[37m\u001b[0m \u001b[1m10s\u001b[0m 13ms/step - accuracy: 0.9852 - loss: 0.0417 - val_accuracy: 0.8945 - val_loss: 0.6416\n",
            "Epoch 80/200\n",
            "\u001b[1m600/600\u001b[0m \u001b[32m━━━━━━━━━━━━━━━━━━━━\u001b[0m\u001b[37m\u001b[0m \u001b[1m9s\u001b[0m 15ms/step - accuracy: 0.9858 - loss: 0.0369 - val_accuracy: 0.8959 - val_loss: 0.6386\n",
            "Epoch 81/200\n",
            "\u001b[1m600/600\u001b[0m \u001b[32m━━━━━━━━━━━━━━━━━━━━\u001b[0m\u001b[37m\u001b[0m \u001b[1m9s\u001b[0m 16ms/step - accuracy: 0.9852 - loss: 0.0398 - val_accuracy: 0.8894 - val_loss: 0.6557\n",
            "Epoch 82/200\n",
            "\u001b[1m600/600\u001b[0m \u001b[32m━━━━━━━━━━━━━━━━━━━━\u001b[0m\u001b[37m\u001b[0m \u001b[1m8s\u001b[0m 13ms/step - accuracy: 0.9855 - loss: 0.0415 - val_accuracy: 0.8954 - val_loss: 0.6696\n",
            "Epoch 83/200\n",
            "\u001b[1m600/600\u001b[0m \u001b[32m━━━━━━━━━━━━━━━━━━━━\u001b[0m\u001b[37m\u001b[0m \u001b[1m11s\u001b[0m 14ms/step - accuracy: 0.9854 - loss: 0.0385 - val_accuracy: 0.8927 - val_loss: 0.6955\n",
            "Epoch 84/200\n",
            "\u001b[1m600/600\u001b[0m \u001b[32m━━━━━━━━━━━━━━━━━━━━\u001b[0m\u001b[37m\u001b[0m \u001b[1m9s\u001b[0m 15ms/step - accuracy: 0.9813 - loss: 0.0496 - val_accuracy: 0.8923 - val_loss: 0.6709\n",
            "Epoch 85/200\n",
            "\u001b[1m600/600\u001b[0m \u001b[32m━━━━━━━━━━━━━━━━━━━━\u001b[0m\u001b[37m\u001b[0m \u001b[1m9s\u001b[0m 15ms/step - accuracy: 0.9863 - loss: 0.0382 - val_accuracy: 0.8936 - val_loss: 0.6994\n",
            "Epoch 86/200\n",
            "\u001b[1m600/600\u001b[0m \u001b[32m━━━━━━━━━━━━━━━━━━━━\u001b[0m\u001b[37m\u001b[0m \u001b[1m10s\u001b[0m 14ms/step - accuracy: 0.9835 - loss: 0.0437 - val_accuracy: 0.8929 - val_loss: 0.6209\n",
            "Epoch 87/200\n",
            "\u001b[1m600/600\u001b[0m \u001b[32m━━━━━━━━━━━━━━━━━━━━\u001b[0m\u001b[37m\u001b[0m \u001b[1m11s\u001b[0m 14ms/step - accuracy: 0.9875 - loss: 0.0347 - val_accuracy: 0.8952 - val_loss: 0.7440\n",
            "Epoch 88/200\n",
            "\u001b[1m600/600\u001b[0m \u001b[32m━━━━━━━━━━━━━━━━━━━━\u001b[0m\u001b[37m\u001b[0m \u001b[1m11s\u001b[0m 15ms/step - accuracy: 0.9874 - loss: 0.0344 - val_accuracy: 0.8951 - val_loss: 0.7114\n",
            "Epoch 89/200\n",
            "\u001b[1m600/600\u001b[0m \u001b[32m━━━━━━━━━━━━━━━━━━━━\u001b[0m\u001b[37m\u001b[0m \u001b[1m10s\u001b[0m 16ms/step - accuracy: 0.9863 - loss: 0.0358 - val_accuracy: 0.8935 - val_loss: 0.7285\n",
            "Epoch 90/200\n",
            "\u001b[1m600/600\u001b[0m \u001b[32m━━━━━━━━━━━━━━━━━━━━\u001b[0m\u001b[37m\u001b[0m \u001b[1m9s\u001b[0m 15ms/step - accuracy: 0.9865 - loss: 0.0380 - val_accuracy: 0.8985 - val_loss: 0.7109\n",
            "Epoch 91/200\n",
            "\u001b[1m600/600\u001b[0m \u001b[32m━━━━━━━━━━━━━━━━━━━━\u001b[0m\u001b[37m\u001b[0m \u001b[1m9s\u001b[0m 13ms/step - accuracy: 0.9882 - loss: 0.0338 - val_accuracy: 0.8944 - val_loss: 0.7027\n",
            "Epoch 92/200\n",
            "\u001b[1m600/600\u001b[0m \u001b[32m━━━━━━━━━━━━━━━━━━━━\u001b[0m\u001b[37m\u001b[0m \u001b[1m11s\u001b[0m 14ms/step - accuracy: 0.9856 - loss: 0.0414 - val_accuracy: 0.8932 - val_loss: 0.7037\n",
            "Epoch 93/200\n",
            "\u001b[1m600/600\u001b[0m \u001b[32m━━━━━━━━━━━━━━━━━━━━\u001b[0m\u001b[37m\u001b[0m \u001b[1m9s\u001b[0m 15ms/step - accuracy: 0.9875 - loss: 0.0361 - val_accuracy: 0.8957 - val_loss: 0.6889\n",
            "Epoch 94/200\n",
            "\u001b[1m600/600\u001b[0m \u001b[32m━━━━━━━━━━━━━━━━━━━━\u001b[0m\u001b[37m\u001b[0m \u001b[1m10s\u001b[0m 15ms/step - accuracy: 0.9883 - loss: 0.0301 - val_accuracy: 0.8953 - val_loss: 0.6751\n",
            "Epoch 95/200\n",
            "\u001b[1m600/600\u001b[0m \u001b[32m━━━━━━━━━━━━━━━━━━━━\u001b[0m\u001b[37m\u001b[0m \u001b[1m8s\u001b[0m 14ms/step - accuracy: 0.9885 - loss: 0.0328 - val_accuracy: 0.8938 - val_loss: 0.6799\n",
            "Epoch 96/200\n",
            "\u001b[1m600/600\u001b[0m \u001b[32m━━━━━━━━━━━━━━━━━━━━\u001b[0m\u001b[37m\u001b[0m \u001b[1m10s\u001b[0m 14ms/step - accuracy: 0.9889 - loss: 0.0307 - val_accuracy: 0.8939 - val_loss: 0.7052\n",
            "Epoch 97/200\n",
            "\u001b[1m600/600\u001b[0m \u001b[32m━━━━━━━━━━━━━━━━━━━━\u001b[0m\u001b[37m\u001b[0m \u001b[1m9s\u001b[0m 15ms/step - accuracy: 0.9880 - loss: 0.0342 - val_accuracy: 0.8951 - val_loss: 0.7195\n",
            "Epoch 98/200\n",
            "\u001b[1m600/600\u001b[0m \u001b[32m━━━━━━━━━━━━━━━━━━━━\u001b[0m\u001b[37m\u001b[0m \u001b[1m10s\u001b[0m 15ms/step - accuracy: 0.9885 - loss: 0.0328 - val_accuracy: 0.8916 - val_loss: 0.7244\n",
            "Epoch 99/200\n",
            "\u001b[1m600/600\u001b[0m \u001b[32m━━━━━━━━━━━━━━━━━━━━\u001b[0m\u001b[37m\u001b[0m \u001b[1m9s\u001b[0m 13ms/step - accuracy: 0.9889 - loss: 0.0316 - val_accuracy: 0.8939 - val_loss: 0.7514\n",
            "Epoch 100/200\n",
            "\u001b[1m600/600\u001b[0m \u001b[32m━━━━━━━━━━━━━━━━━━━━\u001b[0m\u001b[37m\u001b[0m \u001b[1m9s\u001b[0m 15ms/step - accuracy: 0.9895 - loss: 0.0299 - val_accuracy: 0.8925 - val_loss: 0.8509\n",
            "Epoch 101/200\n",
            "\u001b[1m600/600\u001b[0m \u001b[32m━━━━━━━━━━━━━━━━━━━━\u001b[0m\u001b[37m\u001b[0m \u001b[1m10s\u001b[0m 15ms/step - accuracy: 0.9871 - loss: 0.0347 - val_accuracy: 0.8966 - val_loss: 0.8021\n",
            "Epoch 102/200\n",
            "\u001b[1m600/600\u001b[0m \u001b[32m━━━━━━━━━━━━━━━━━━━━\u001b[0m\u001b[37m\u001b[0m \u001b[1m9s\u001b[0m 15ms/step - accuracy: 0.9897 - loss: 0.0294 - val_accuracy: 0.8937 - val_loss: 0.7485\n",
            "Epoch 103/200\n",
            "\u001b[1m600/600\u001b[0m \u001b[32m━━━━━━━━━━━━━━━━━━━━\u001b[0m\u001b[37m\u001b[0m \u001b[1m9s\u001b[0m 13ms/step - accuracy: 0.9895 - loss: 0.0290 - val_accuracy: 0.8931 - val_loss: 0.7257\n",
            "Epoch 104/200\n",
            "\u001b[1m600/600\u001b[0m \u001b[32m━━━━━━━━━━━━━━━━━━━━\u001b[0m\u001b[37m\u001b[0m \u001b[1m9s\u001b[0m 15ms/step - accuracy: 0.9897 - loss: 0.0305 - val_accuracy: 0.8946 - val_loss: 0.7985\n",
            "Epoch 105/200\n",
            "\u001b[1m600/600\u001b[0m \u001b[32m━━━━━━━━━━━━━━━━━━━━\u001b[0m\u001b[37m\u001b[0m \u001b[1m9s\u001b[0m 15ms/step - accuracy: 0.9888 - loss: 0.0311 - val_accuracy: 0.8978 - val_loss: 0.7558\n",
            "Epoch 106/200\n",
            "\u001b[1m600/600\u001b[0m \u001b[32m━━━━━━━━━━━━━━━━━━━━\u001b[0m\u001b[37m\u001b[0m \u001b[1m8s\u001b[0m 14ms/step - accuracy: 0.9905 - loss: 0.0267 - val_accuracy: 0.8996 - val_loss: 0.6968\n",
            "Epoch 107/200\n",
            "\u001b[1m600/600\u001b[0m \u001b[32m━━━━━━━━━━━━━━━━━━━━\u001b[0m\u001b[37m\u001b[0m \u001b[1m9s\u001b[0m 15ms/step - accuracy: 0.9920 - loss: 0.0241 - val_accuracy: 0.8962 - val_loss: 0.7440\n",
            "Epoch 108/200\n",
            "\u001b[1m600/600\u001b[0m \u001b[32m━━━━━━━━━━━━━━━━━━━━\u001b[0m\u001b[37m\u001b[0m \u001b[1m10s\u001b[0m 15ms/step - accuracy: 0.9892 - loss: 0.0314 - val_accuracy: 0.8969 - val_loss: 0.7805\n",
            "Epoch 109/200\n",
            "\u001b[1m600/600\u001b[0m \u001b[32m━━━━━━━━━━━━━━━━━━━━\u001b[0m\u001b[37m\u001b[0m \u001b[1m9s\u001b[0m 15ms/step - accuracy: 0.9909 - loss: 0.0272 - val_accuracy: 0.8963 - val_loss: 0.7089\n",
            "Epoch 110/200\n",
            "\u001b[1m600/600\u001b[0m \u001b[32m━━━━━━━━━━━━━━━━━━━━\u001b[0m\u001b[37m\u001b[0m \u001b[1m8s\u001b[0m 14ms/step - accuracy: 0.9904 - loss: 0.0288 - val_accuracy: 0.8908 - val_loss: 0.8003\n",
            "Epoch 111/200\n",
            "\u001b[1m600/600\u001b[0m \u001b[32m━━━━━━━━━━━━━━━━━━━━\u001b[0m\u001b[37m\u001b[0m \u001b[1m9s\u001b[0m 16ms/step - accuracy: 0.9881 - loss: 0.0359 - val_accuracy: 0.8988 - val_loss: 0.6709\n",
            "Epoch 112/200\n",
            "\u001b[1m600/600\u001b[0m \u001b[32m━━━━━━━━━━━━━━━━━━━━\u001b[0m\u001b[37m\u001b[0m \u001b[1m10s\u001b[0m 15ms/step - accuracy: 0.9919 - loss: 0.0239 - val_accuracy: 0.8932 - val_loss: 0.8268\n",
            "Epoch 113/200\n",
            "\u001b[1m600/600\u001b[0m \u001b[32m━━━━━━━━━━━━━━━━━━━━\u001b[0m\u001b[37m\u001b[0m \u001b[1m8s\u001b[0m 14ms/step - accuracy: 0.9907 - loss: 0.0264 - val_accuracy: 0.8914 - val_loss: 0.7877\n",
            "Epoch 114/200\n",
            "\u001b[1m600/600\u001b[0m \u001b[32m━━━━━━━━━━━━━━━━━━━━\u001b[0m\u001b[37m\u001b[0m \u001b[1m11s\u001b[0m 14ms/step - accuracy: 0.9907 - loss: 0.0272 - val_accuracy: 0.8948 - val_loss: 0.7672\n",
            "Epoch 115/200\n",
            "\u001b[1m600/600\u001b[0m \u001b[32m━━━━━━━━━━━━━━━━━━━━\u001b[0m\u001b[37m\u001b[0m \u001b[1m11s\u001b[0m 16ms/step - accuracy: 0.9904 - loss: 0.0255 - val_accuracy: 0.8972 - val_loss: 0.8055\n",
            "Epoch 116/200\n",
            "\u001b[1m600/600\u001b[0m \u001b[32m━━━━━━━━━━━━━━━━━━━━\u001b[0m\u001b[37m\u001b[0m \u001b[1m9s\u001b[0m 15ms/step - accuracy: 0.9914 - loss: 0.0266 - val_accuracy: 0.8900 - val_loss: 0.8683\n",
            "Epoch 117/200\n",
            "\u001b[1m600/600\u001b[0m \u001b[32m━━━━━━━━━━━━━━━━━━━━\u001b[0m\u001b[37m\u001b[0m \u001b[1m10s\u001b[0m 15ms/step - accuracy: 0.9900 - loss: 0.0311 - val_accuracy: 0.8949 - val_loss: 0.7815\n",
            "Epoch 118/200\n",
            "\u001b[1m600/600\u001b[0m \u001b[32m━━━━━━━━━━━━━━━━━━━━\u001b[0m\u001b[37m\u001b[0m \u001b[1m9s\u001b[0m 14ms/step - accuracy: 0.9908 - loss: 0.0277 - val_accuracy: 0.8928 - val_loss: 0.8271\n",
            "Epoch 119/200\n",
            "\u001b[1m600/600\u001b[0m \u001b[32m━━━━━━━━━━━━━━━━━━━━\u001b[0m\u001b[37m\u001b[0m \u001b[1m9s\u001b[0m 16ms/step - accuracy: 0.9912 - loss: 0.0260 - val_accuracy: 0.8950 - val_loss: 0.8635\n",
            "Epoch 120/200\n",
            "\u001b[1m600/600\u001b[0m \u001b[32m━━━━━━━━━━━━━━━━━━━━\u001b[0m\u001b[37m\u001b[0m \u001b[1m10s\u001b[0m 16ms/step - accuracy: 0.9910 - loss: 0.0256 - val_accuracy: 0.8957 - val_loss: 0.8904\n",
            "Epoch 121/200\n",
            "\u001b[1m600/600\u001b[0m \u001b[32m━━━━━━━━━━━━━━━━━━━━\u001b[0m\u001b[37m\u001b[0m \u001b[1m9s\u001b[0m 14ms/step - accuracy: 0.9912 - loss: 0.0267 - val_accuracy: 0.8928 - val_loss: 0.8264\n",
            "Epoch 122/200\n",
            "\u001b[1m600/600\u001b[0m \u001b[32m━━━━━━━━━━━━━━━━━━━━\u001b[0m\u001b[37m\u001b[0m \u001b[1m10s\u001b[0m 14ms/step - accuracy: 0.9890 - loss: 0.0316 - val_accuracy: 0.8982 - val_loss: 0.8179\n",
            "Epoch 123/200\n",
            "\u001b[1m600/600\u001b[0m \u001b[32m━━━━━━━━━━━━━━━━━━━━\u001b[0m\u001b[37m\u001b[0m \u001b[1m9s\u001b[0m 16ms/step - accuracy: 0.9916 - loss: 0.0246 - val_accuracy: 0.8967 - val_loss: 0.8351\n",
            "Epoch 124/200\n",
            "\u001b[1m600/600\u001b[0m \u001b[32m━━━━━━━━━━━━━━━━━━━━\u001b[0m\u001b[37m\u001b[0m \u001b[1m10s\u001b[0m 16ms/step - accuracy: 0.9941 - loss: 0.0180 - val_accuracy: 0.8942 - val_loss: 0.7468\n",
            "Epoch 125/200\n",
            "\u001b[1m600/600\u001b[0m \u001b[32m━━━━━━━━━━━━━━━━━━━━\u001b[0m\u001b[37m\u001b[0m \u001b[1m9s\u001b[0m 14ms/step - accuracy: 0.9916 - loss: 0.0241 - val_accuracy: 0.8944 - val_loss: 0.8948\n",
            "Epoch 126/200\n",
            "\u001b[1m600/600\u001b[0m \u001b[32m━━━━━━━━━━━━━━━━━━━━\u001b[0m\u001b[37m\u001b[0m \u001b[1m10s\u001b[0m 14ms/step - accuracy: 0.9923 - loss: 0.0223 - val_accuracy: 0.8930 - val_loss: 0.8383\n",
            "Epoch 127/200\n",
            "\u001b[1m600/600\u001b[0m \u001b[32m━━━━━━━━━━━━━━━━━━━━\u001b[0m\u001b[37m\u001b[0m \u001b[1m9s\u001b[0m 16ms/step - accuracy: 0.9938 - loss: 0.0188 - val_accuracy: 0.8881 - val_loss: 0.7714\n",
            "Epoch 128/200\n",
            "\u001b[1m600/600\u001b[0m \u001b[32m━━━━━━━━━━━━━━━━━━━━\u001b[0m\u001b[37m\u001b[0m \u001b[1m9s\u001b[0m 15ms/step - accuracy: 0.9873 - loss: 0.0381 - val_accuracy: 0.8984 - val_loss: 0.7721\n",
            "Epoch 129/200\n",
            "\u001b[1m600/600\u001b[0m \u001b[32m━━━━━━━━━━━━━━━━━━━━\u001b[0m\u001b[37m\u001b[0m \u001b[1m8s\u001b[0m 13ms/step - accuracy: 0.9943 - loss: 0.0174 - val_accuracy: 0.8892 - val_loss: 0.7856\n",
            "Epoch 130/200\n",
            "\u001b[1m600/600\u001b[0m \u001b[32m━━━━━━━━━━━━━━━━━━━━\u001b[0m\u001b[37m\u001b[0m \u001b[1m9s\u001b[0m 15ms/step - accuracy: 0.9894 - loss: 0.0297 - val_accuracy: 0.8920 - val_loss: 0.8282\n",
            "Epoch 131/200\n",
            "\u001b[1m600/600\u001b[0m \u001b[32m━━━━━━━━━━━━━━━━━━━━\u001b[0m\u001b[37m\u001b[0m \u001b[1m10s\u001b[0m 16ms/step - accuracy: 0.9904 - loss: 0.0284 - val_accuracy: 0.9005 - val_loss: 0.7989\n",
            "Epoch 132/200\n",
            "\u001b[1m600/600\u001b[0m \u001b[32m━━━━━━━━━━━━━━━━━━━━\u001b[0m\u001b[37m\u001b[0m \u001b[1m10s\u001b[0m 15ms/step - accuracy: 0.9951 - loss: 0.0148 - val_accuracy: 0.8910 - val_loss: 0.7382\n",
            "Epoch 133/200\n",
            "\u001b[1m600/600\u001b[0m \u001b[32m━━━━━━━━━━━━━━━━━━━━\u001b[0m\u001b[37m\u001b[0m \u001b[1m8s\u001b[0m 14ms/step - accuracy: 0.9923 - loss: 0.0238 - val_accuracy: 0.8951 - val_loss: 0.7076\n",
            "Epoch 134/200\n",
            "\u001b[1m600/600\u001b[0m \u001b[32m━━━━━━━━━━━━━━━━━━━━\u001b[0m\u001b[37m\u001b[0m \u001b[1m11s\u001b[0m 15ms/step - accuracy: 0.9937 - loss: 0.0176 - val_accuracy: 0.8896 - val_loss: 0.9521\n",
            "Epoch 135/200\n",
            "\u001b[1m600/600\u001b[0m \u001b[32m━━━━━━━━━━━━━━━━━━━━\u001b[0m\u001b[37m\u001b[0m \u001b[1m10s\u001b[0m 15ms/step - accuracy: 0.9916 - loss: 0.0258 - val_accuracy: 0.8954 - val_loss: 0.8337\n",
            "Epoch 136/200\n",
            "\u001b[1m600/600\u001b[0m \u001b[32m━━━━━━━━━━━━━━━━━━━━\u001b[0m\u001b[37m\u001b[0m \u001b[1m10s\u001b[0m 16ms/step - accuracy: 0.9945 - loss: 0.0170 - val_accuracy: 0.8977 - val_loss: 0.7910\n",
            "Epoch 137/200\n",
            "\u001b[1m600/600\u001b[0m \u001b[32m━━━━━━━━━━━━━━━━━━━━\u001b[0m\u001b[37m\u001b[0m \u001b[1m8s\u001b[0m 14ms/step - accuracy: 0.9939 - loss: 0.0197 - val_accuracy: 0.8935 - val_loss: 0.7853\n",
            "Epoch 138/200\n",
            "\u001b[1m600/600\u001b[0m \u001b[32m━━━━━━━━━━━━━━━━━━━━\u001b[0m\u001b[37m\u001b[0m \u001b[1m11s\u001b[0m 15ms/step - accuracy: 0.9941 - loss: 0.0187 - val_accuracy: 0.8976 - val_loss: 0.9065\n",
            "Epoch 139/200\n",
            "\u001b[1m600/600\u001b[0m \u001b[32m━━━━━━━━━━━━━━━━━━━━\u001b[0m\u001b[37m\u001b[0m \u001b[1m11s\u001b[0m 16ms/step - accuracy: 0.9949 - loss: 0.0149 - val_accuracy: 0.8956 - val_loss: 0.7549\n",
            "Epoch 140/200\n",
            "\u001b[1m600/600\u001b[0m \u001b[32m━━━━━━━━━━━━━━━━━━━━\u001b[0m\u001b[37m\u001b[0m \u001b[1m9s\u001b[0m 16ms/step - accuracy: 0.9939 - loss: 0.0180 - val_accuracy: 0.8939 - val_loss: 0.8524\n",
            "Epoch 141/200\n",
            "\u001b[1m600/600\u001b[0m \u001b[32m━━━━━━━━━━━━━━━━━━━━\u001b[0m\u001b[37m\u001b[0m \u001b[1m9s\u001b[0m 14ms/step - accuracy: 0.9901 - loss: 0.0300 - val_accuracy: 0.8907 - val_loss: 0.7214\n",
            "Epoch 142/200\n",
            "\u001b[1m600/600\u001b[0m \u001b[32m━━━━━━━━━━━━━━━━━━━━\u001b[0m\u001b[37m\u001b[0m \u001b[1m10s\u001b[0m 14ms/step - accuracy: 0.9919 - loss: 0.0236 - val_accuracy: 0.8974 - val_loss: 0.8173\n",
            "Epoch 143/200\n",
            "\u001b[1m600/600\u001b[0m \u001b[32m━━━━━━━━━━━━━━━━━━━━\u001b[0m\u001b[37m\u001b[0m \u001b[1m9s\u001b[0m 15ms/step - accuracy: 0.9949 - loss: 0.0161 - val_accuracy: 0.8890 - val_loss: 0.7332\n",
            "Epoch 144/200\n",
            "\u001b[1m600/600\u001b[0m \u001b[32m━━━━━━━━━━━━━━━━━━━━\u001b[0m\u001b[37m\u001b[0m \u001b[1m9s\u001b[0m 15ms/step - accuracy: 0.9908 - loss: 0.0281 - val_accuracy: 0.8931 - val_loss: 0.7905\n",
            "Epoch 145/200\n",
            "\u001b[1m600/600\u001b[0m \u001b[32m━━━━━━━━━━━━━━━━━━━━\u001b[0m\u001b[37m\u001b[0m \u001b[1m8s\u001b[0m 14ms/step - accuracy: 0.9926 - loss: 0.0215 - val_accuracy: 0.8939 - val_loss: 0.7658\n",
            "Epoch 146/200\n",
            "\u001b[1m600/600\u001b[0m \u001b[32m━━━━━━━━━━━━━━━━━━━━\u001b[0m\u001b[37m\u001b[0m \u001b[1m9s\u001b[0m 15ms/step - accuracy: 0.9930 - loss: 0.0226 - val_accuracy: 0.8983 - val_loss: 0.8390\n",
            "Epoch 147/200\n",
            "\u001b[1m600/600\u001b[0m \u001b[32m━━━━━━━━━━━━━━━━━━━━\u001b[0m\u001b[37m\u001b[0m \u001b[1m10s\u001b[0m 15ms/step - accuracy: 0.9944 - loss: 0.0174 - val_accuracy: 0.8898 - val_loss: 0.7896\n",
            "Epoch 148/200\n",
            "\u001b[1m600/600\u001b[0m \u001b[32m━━━━━━━━━━━━━━━━━━━━\u001b[0m\u001b[37m\u001b[0m \u001b[1m8s\u001b[0m 14ms/step - accuracy: 0.9926 - loss: 0.0218 - val_accuracy: 0.8946 - val_loss: 0.8736\n",
            "Epoch 149/200\n",
            "\u001b[1m600/600\u001b[0m \u001b[32m━━━━━━━━━━━━━━━━━━━━\u001b[0m\u001b[37m\u001b[0m \u001b[1m9s\u001b[0m 15ms/step - accuracy: 0.9935 - loss: 0.0205 - val_accuracy: 0.8951 - val_loss: 0.8112\n",
            "Epoch 150/200\n",
            "\u001b[1m600/600\u001b[0m \u001b[32m━━━━━━━━━━━━━━━━━━━━\u001b[0m\u001b[37m\u001b[0m \u001b[1m10s\u001b[0m 16ms/step - accuracy: 0.9937 - loss: 0.0186 - val_accuracy: 0.8940 - val_loss: 0.8948\n",
            "Epoch 151/200\n",
            "\u001b[1m600/600\u001b[0m \u001b[32m━━━━━━━━━━━━━━━━━━━━\u001b[0m\u001b[37m\u001b[0m \u001b[1m9s\u001b[0m 15ms/step - accuracy: 0.9931 - loss: 0.0210 - val_accuracy: 0.8932 - val_loss: 0.9045\n",
            "Epoch 152/200\n",
            "\u001b[1m600/600\u001b[0m \u001b[32m━━━━━━━━━━━━━━━━━━━━\u001b[0m\u001b[37m\u001b[0m \u001b[1m9s\u001b[0m 14ms/step - accuracy: 0.9922 - loss: 0.0226 - val_accuracy: 0.8967 - val_loss: 0.8732\n",
            "Epoch 153/200\n",
            "\u001b[1m600/600\u001b[0m \u001b[32m━━━━━━━━━━━━━━━━━━━━\u001b[0m\u001b[37m\u001b[0m \u001b[1m11s\u001b[0m 14ms/step - accuracy: 0.9952 - loss: 0.0147 - val_accuracy: 0.8949 - val_loss: 0.8762\n",
            "Epoch 154/200\n",
            "\u001b[1m600/600\u001b[0m \u001b[32m━━━━━━━━━━━━━━━━━━━━\u001b[0m\u001b[37m\u001b[0m \u001b[1m11s\u001b[0m 16ms/step - accuracy: 0.9950 - loss: 0.0154 - val_accuracy: 0.8948 - val_loss: 0.7598\n",
            "Epoch 155/200\n",
            "\u001b[1m600/600\u001b[0m \u001b[32m━━━━━━━━━━━━━━━━━━━━\u001b[0m\u001b[37m\u001b[0m \u001b[1m10s\u001b[0m 16ms/step - accuracy: 0.9936 - loss: 0.0191 - val_accuracy: 0.9007 - val_loss: 0.9055\n",
            "Epoch 156/200\n",
            "\u001b[1m600/600\u001b[0m \u001b[32m━━━━━━━━━━━━━━━━━━━━\u001b[0m\u001b[37m\u001b[0m \u001b[1m9s\u001b[0m 15ms/step - accuracy: 0.9938 - loss: 0.0183 - val_accuracy: 0.8961 - val_loss: 0.8060\n",
            "Epoch 157/200\n",
            "\u001b[1m600/600\u001b[0m \u001b[32m━━━━━━━━━━━━━━━━━━━━\u001b[0m\u001b[37m\u001b[0m \u001b[1m9s\u001b[0m 14ms/step - accuracy: 0.9940 - loss: 0.0178 - val_accuracy: 0.8951 - val_loss: 0.9036\n",
            "Epoch 158/200\n",
            "\u001b[1m600/600\u001b[0m \u001b[32m━━━━━━━━━━━━━━━━━━━━\u001b[0m\u001b[37m\u001b[0m \u001b[1m9s\u001b[0m 16ms/step - accuracy: 0.9948 - loss: 0.0156 - val_accuracy: 0.8954 - val_loss: 0.9433\n",
            "Epoch 159/200\n",
            "\u001b[1m600/600\u001b[0m \u001b[32m━━━━━━━━━━━━━━━━━━━━\u001b[0m\u001b[37m\u001b[0m \u001b[1m9s\u001b[0m 16ms/step - accuracy: 0.9950 - loss: 0.0161 - val_accuracy: 0.8842 - val_loss: 0.8778\n",
            "Epoch 160/200\n",
            "\u001b[1m600/600\u001b[0m \u001b[32m━━━━━━━━━━━━━━━━━━━━\u001b[0m\u001b[37m\u001b[0m \u001b[1m9s\u001b[0m 14ms/step - accuracy: 0.9912 - loss: 0.0268 - val_accuracy: 0.8927 - val_loss: 0.8675\n",
            "Epoch 161/200\n",
            "\u001b[1m600/600\u001b[0m \u001b[32m━━━━━━━━━━━━━━━━━━━━\u001b[0m\u001b[37m\u001b[0m \u001b[1m10s\u001b[0m 16ms/step - accuracy: 0.9926 - loss: 0.0278 - val_accuracy: 0.8985 - val_loss: 0.9254\n",
            "Epoch 162/200\n",
            "\u001b[1m600/600\u001b[0m \u001b[32m━━━━━━━━━━━━━━━━━━━━\u001b[0m\u001b[37m\u001b[0m \u001b[1m10s\u001b[0m 16ms/step - accuracy: 0.9916 - loss: 0.0268 - val_accuracy: 0.8984 - val_loss: 0.8706\n",
            "Epoch 163/200\n",
            "\u001b[1m600/600\u001b[0m \u001b[32m━━━━━━━━━━━━━━━━━━━━\u001b[0m\u001b[37m\u001b[0m \u001b[1m9s\u001b[0m 15ms/step - accuracy: 0.9939 - loss: 0.0205 - val_accuracy: 0.8918 - val_loss: 0.8215\n",
            "Epoch 164/200\n",
            "\u001b[1m600/600\u001b[0m \u001b[32m━━━━━━━━━━━━━━━━━━━━\u001b[0m\u001b[37m\u001b[0m \u001b[1m9s\u001b[0m 14ms/step - accuracy: 0.9937 - loss: 0.0211 - val_accuracy: 0.8966 - val_loss: 0.8274\n",
            "Epoch 165/200\n",
            "\u001b[1m600/600\u001b[0m \u001b[32m━━━━━━━━━━━━━━━━━━━━\u001b[0m\u001b[37m\u001b[0m \u001b[1m10s\u001b[0m 16ms/step - accuracy: 0.9959 - loss: 0.0130 - val_accuracy: 0.8981 - val_loss: 0.8239\n",
            "Epoch 166/200\n",
            "\u001b[1m600/600\u001b[0m \u001b[32m━━━━━━━━━━━━━━━━━━━━\u001b[0m\u001b[37m\u001b[0m \u001b[1m9s\u001b[0m 16ms/step - accuracy: 0.9954 - loss: 0.0143 - val_accuracy: 0.8874 - val_loss: 0.8967\n",
            "Epoch 167/200\n",
            "\u001b[1m600/600\u001b[0m \u001b[32m━━━━━━━━━━━━━━━━━━━━\u001b[0m\u001b[37m\u001b[0m \u001b[1m8s\u001b[0m 14ms/step - accuracy: 0.9910 - loss: 0.0293 - val_accuracy: 0.8968 - val_loss: 0.7816\n",
            "Epoch 168/200\n",
            "\u001b[1m600/600\u001b[0m \u001b[32m━━━━━━━━━━━━━━━━━━━━\u001b[0m\u001b[37m\u001b[0m \u001b[1m10s\u001b[0m 16ms/step - accuracy: 0.9951 - loss: 0.0158 - val_accuracy: 0.8929 - val_loss: 0.6975\n",
            "Epoch 169/200\n",
            "\u001b[1m600/600\u001b[0m \u001b[32m━━━━━━━━━━━━━━━━━━━━\u001b[0m\u001b[37m\u001b[0m \u001b[1m10s\u001b[0m 16ms/step - accuracy: 0.9957 - loss: 0.0147 - val_accuracy: 0.8913 - val_loss: 0.8592\n",
            "Epoch 170/200\n",
            "\u001b[1m600/600\u001b[0m \u001b[32m━━━━━━━━━━━━━━━━━━━━\u001b[0m\u001b[37m\u001b[0m \u001b[1m10s\u001b[0m 15ms/step - accuracy: 0.9964 - loss: 0.0109 - val_accuracy: 0.8951 - val_loss: 0.8032\n",
            "Epoch 171/200\n",
            "\u001b[1m600/600\u001b[0m \u001b[32m━━━━━━━━━━━━━━━━━━━━\u001b[0m\u001b[37m\u001b[0m \u001b[1m10s\u001b[0m 14ms/step - accuracy: 0.9937 - loss: 0.0198 - val_accuracy: 0.8936 - val_loss: 0.8408\n",
            "Epoch 172/200\n",
            "\u001b[1m600/600\u001b[0m \u001b[32m━━━━━━━━━━━━━━━━━━━━\u001b[0m\u001b[37m\u001b[0m \u001b[1m10s\u001b[0m 16ms/step - accuracy: 0.9916 - loss: 0.0272 - val_accuracy: 0.8973 - val_loss: 0.8735\n",
            "Epoch 173/200\n",
            "\u001b[1m600/600\u001b[0m \u001b[32m━━━━━━━━━━━━━━━━━━━━\u001b[0m\u001b[37m\u001b[0m \u001b[1m10s\u001b[0m 16ms/step - accuracy: 0.9940 - loss: 0.0175 - val_accuracy: 0.8979 - val_loss: 0.9258\n",
            "Epoch 174/200\n",
            "\u001b[1m600/600\u001b[0m \u001b[32m━━━━━━━━━━━━━━━━━━━━\u001b[0m\u001b[37m\u001b[0m \u001b[1m8s\u001b[0m 14ms/step - accuracy: 0.9934 - loss: 0.0185 - val_accuracy: 0.8958 - val_loss: 0.9089\n",
            "Epoch 175/200\n",
            "\u001b[1m600/600\u001b[0m \u001b[32m━━━━━━━━━━━━━━━━━━━━\u001b[0m\u001b[37m\u001b[0m \u001b[1m10s\u001b[0m 16ms/step - accuracy: 0.9940 - loss: 0.0197 - val_accuracy: 0.8982 - val_loss: 0.7281\n",
            "Epoch 176/200\n",
            "\u001b[1m600/600\u001b[0m \u001b[32m━━━━━━━━━━━━━━━━━━━━\u001b[0m\u001b[37m\u001b[0m \u001b[1m10s\u001b[0m 16ms/step - accuracy: 0.9959 - loss: 0.0136 - val_accuracy: 0.8944 - val_loss: 0.8806\n",
            "Epoch 177/200\n",
            "\u001b[1m600/600\u001b[0m \u001b[32m━━━━━━━━━━━━━━━━━━━━\u001b[0m\u001b[37m\u001b[0m \u001b[1m9s\u001b[0m 15ms/step - accuracy: 0.9935 - loss: 0.0219 - val_accuracy: 0.8948 - val_loss: 0.8703\n",
            "Epoch 178/200\n",
            "\u001b[1m600/600\u001b[0m \u001b[32m━━━━━━━━━━━━━━━━━━━━\u001b[0m\u001b[37m\u001b[0m \u001b[1m9s\u001b[0m 14ms/step - accuracy: 0.9951 - loss: 0.0163 - val_accuracy: 0.8961 - val_loss: 0.8176\n",
            "Epoch 179/200\n",
            "\u001b[1m600/600\u001b[0m \u001b[32m━━━━━━━━━━━━━━━━━━━━\u001b[0m\u001b[37m\u001b[0m \u001b[1m9s\u001b[0m 16ms/step - accuracy: 0.9957 - loss: 0.0118 - val_accuracy: 0.8989 - val_loss: 0.8852\n",
            "Epoch 180/200\n",
            "\u001b[1m600/600\u001b[0m \u001b[32m━━━━━━━━━━━━━━━━━━━━\u001b[0m\u001b[37m\u001b[0m \u001b[1m9s\u001b[0m 16ms/step - accuracy: 0.9935 - loss: 0.0199 - val_accuracy: 0.8975 - val_loss: 0.8011\n",
            "Epoch 181/200\n",
            "\u001b[1m600/600\u001b[0m \u001b[32m━━━━━━━━━━━━━━━━━━━━\u001b[0m\u001b[37m\u001b[0m \u001b[1m8s\u001b[0m 14ms/step - accuracy: 0.9951 - loss: 0.0172 - val_accuracy: 0.8963 - val_loss: 0.8961\n",
            "Epoch 182/200\n",
            "\u001b[1m600/600\u001b[0m \u001b[32m━━━━━━━━━━━━━━━━━━━━\u001b[0m\u001b[37m\u001b[0m \u001b[1m10s\u001b[0m 14ms/step - accuracy: 0.9935 - loss: 0.0197 - val_accuracy: 0.8928 - val_loss: 0.8379\n",
            "Epoch 183/200\n",
            "\u001b[1m600/600\u001b[0m \u001b[32m━━━━━━━━━━━━━━━━━━━━\u001b[0m\u001b[37m\u001b[0m \u001b[1m11s\u001b[0m 16ms/step - accuracy: 0.9946 - loss: 0.0172 - val_accuracy: 0.8987 - val_loss: 0.8626\n",
            "Epoch 184/200\n",
            "\u001b[1m600/600\u001b[0m \u001b[32m━━━━━━━━━━━━━━━━━━━━\u001b[0m\u001b[37m\u001b[0m \u001b[1m10s\u001b[0m 16ms/step - accuracy: 0.9969 - loss: 0.0108 - val_accuracy: 0.8950 - val_loss: 0.8806\n",
            "Epoch 185/200\n",
            "\u001b[1m600/600\u001b[0m \u001b[32m━━━━━━━━━━━━━━━━━━━━\u001b[0m\u001b[37m\u001b[0m \u001b[1m9s\u001b[0m 14ms/step - accuracy: 0.9936 - loss: 0.0206 - val_accuracy: 0.8892 - val_loss: 0.8595\n",
            "Epoch 186/200\n",
            "\u001b[1m600/600\u001b[0m \u001b[32m━━━━━━━━━━━━━━━━━━━━\u001b[0m\u001b[37m\u001b[0m \u001b[1m10s\u001b[0m 14ms/step - accuracy: 0.9939 - loss: 0.0185 - val_accuracy: 0.8926 - val_loss: 0.8361\n",
            "Epoch 187/200\n",
            "\u001b[1m600/600\u001b[0m \u001b[32m━━━━━━━━━━━━━━━━━━━━\u001b[0m\u001b[37m\u001b[0m \u001b[1m9s\u001b[0m 16ms/step - accuracy: 0.9965 - loss: 0.0116 - val_accuracy: 0.8939 - val_loss: 0.9574\n",
            "Epoch 188/200\n",
            "\u001b[1m600/600\u001b[0m \u001b[32m━━━━━━━━━━━━━━━━━━━━\u001b[0m\u001b[37m\u001b[0m \u001b[1m10s\u001b[0m 16ms/step - accuracy: 0.9925 - loss: 0.0243 - val_accuracy: 0.8965 - val_loss: 0.8822\n",
            "Epoch 189/200\n",
            "\u001b[1m600/600\u001b[0m \u001b[32m━━━━━━━━━━━━━━━━━━━━\u001b[0m\u001b[37m\u001b[0m \u001b[1m10s\u001b[0m 16ms/step - accuracy: 0.9956 - loss: 0.0132 - val_accuracy: 0.8950 - val_loss: 0.9476\n",
            "Epoch 190/200\n",
            "\u001b[1m600/600\u001b[0m \u001b[32m━━━━━━━━━━━━━━━━━━━━\u001b[0m\u001b[37m\u001b[0m \u001b[1m9s\u001b[0m 14ms/step - accuracy: 0.9946 - loss: 0.0162 - val_accuracy: 0.8946 - val_loss: 0.9749\n",
            "Epoch 191/200\n",
            "\u001b[1m600/600\u001b[0m \u001b[32m━━━━━━━━━━━━━━━━━━━━\u001b[0m\u001b[37m\u001b[0m \u001b[1m11s\u001b[0m 15ms/step - accuracy: 0.9963 - loss: 0.0116 - val_accuracy: 0.8949 - val_loss: 0.9268\n",
            "Epoch 192/200\n",
            "\u001b[1m600/600\u001b[0m \u001b[32m━━━━━━━━━━━━━━━━━━━━\u001b[0m\u001b[37m\u001b[0m \u001b[1m11s\u001b[0m 16ms/step - accuracy: 0.9950 - loss: 0.0152 - val_accuracy: 0.8859 - val_loss: 0.9370\n",
            "Epoch 193/200\n",
            "\u001b[1m600/600\u001b[0m \u001b[32m━━━━━━━━━━━━━━━━━━━━\u001b[0m\u001b[37m\u001b[0m \u001b[1m10s\u001b[0m 16ms/step - accuracy: 0.9934 - loss: 0.0205 - val_accuracy: 0.8948 - val_loss: 0.9396\n",
            "Epoch 194/200\n",
            "\u001b[1m600/600\u001b[0m \u001b[32m━━━━━━━━━━━━━━━━━━━━\u001b[0m\u001b[37m\u001b[0m \u001b[1m10s\u001b[0m 15ms/step - accuracy: 0.9926 - loss: 0.0246 - val_accuracy: 0.8934 - val_loss: 0.9094\n",
            "Epoch 195/200\n",
            "\u001b[1m600/600\u001b[0m \u001b[32m━━━━━━━━━━━━━━━━━━━━\u001b[0m\u001b[37m\u001b[0m \u001b[1m9s\u001b[0m 15ms/step - accuracy: 0.9942 - loss: 0.0177 - val_accuracy: 0.8962 - val_loss: 0.9271\n",
            "Epoch 196/200\n",
            "\u001b[1m600/600\u001b[0m \u001b[32m━━━━━━━━━━━━━━━━━━━━\u001b[0m\u001b[37m\u001b[0m \u001b[1m10s\u001b[0m 16ms/step - accuracy: 0.9962 - loss: 0.0120 - val_accuracy: 0.8969 - val_loss: 0.8621\n",
            "Epoch 197/200\n",
            "\u001b[1m600/600\u001b[0m \u001b[32m━━━━━━━━━━━━━━━━━━━━\u001b[0m\u001b[37m\u001b[0m \u001b[1m10s\u001b[0m 16ms/step - accuracy: 0.9947 - loss: 0.0169 - val_accuracy: 0.8958 - val_loss: 0.8922\n",
            "Epoch 198/200\n",
            "\u001b[1m600/600\u001b[0m \u001b[32m━━━━━━━━━━━━━━━━━━━━\u001b[0m\u001b[37m\u001b[0m \u001b[1m8s\u001b[0m 14ms/step - accuracy: 0.9945 - loss: 0.0175 - val_accuracy: 0.8936 - val_loss: 1.0215\n",
            "Epoch 199/200\n",
            "\u001b[1m600/600\u001b[0m \u001b[32m━━━━━━━━━━━━━━━━━━━━\u001b[0m\u001b[37m\u001b[0m \u001b[1m11s\u001b[0m 15ms/step - accuracy: 0.9940 - loss: 0.0202 - val_accuracy: 0.8986 - val_loss: 0.8820\n",
            "Epoch 200/200\n",
            "\u001b[1m600/600\u001b[0m \u001b[32m━━━━━━━━━━━━━━━━━━━━\u001b[0m\u001b[37m\u001b[0m \u001b[1m9s\u001b[0m 16ms/step - accuracy: 0.9970 - loss: 0.0098 - val_accuracy: 0.8962 - val_loss: 0.9027\n"
          ]
        }
      ]
    },
    {
      "cell_type": "code",
      "source": [
        "model.save('hw_fashion_mnist.keras')"
      ],
      "metadata": {
        "id": "3CeKLWUHS3yz"
      },
      "execution_count": 78,
      "outputs": []
    },
    {
      "cell_type": "code",
      "source": [
        "from tensorflow import keras\n",
        "\n",
        "# Load the saved model\n",
        "model = keras.models.load_model('hw_fashion_mnist.keras')\n",
        "\n",
        "# Check the model summary to verify it loaded correctly\n",
        "model.summary()"
      ],
      "metadata": {
        "id": "XJJ9JOf4VaJY",
        "outputId": "ded2ae15-467d-43ad-8b23-750c6be3de7f",
        "colab": {
          "base_uri": "https://localhost:8080/",
          "height": 337
        }
      },
      "execution_count": 79,
      "outputs": [
        {
          "output_type": "display_data",
          "data": {
            "text/plain": [
              "\u001b[1mModel: \"sequential_4\"\u001b[0m\n"
            ],
            "text/html": [
              "<pre style=\"white-space:pre;overflow-x:auto;line-height:normal;font-family:Menlo,'DejaVu Sans Mono',consolas,'Courier New',monospace\"><span style=\"font-weight: bold\">Model: \"sequential_4\"</span>\n",
              "</pre>\n"
            ]
          },
          "metadata": {}
        },
        {
          "output_type": "display_data",
          "data": {
            "text/plain": [
              "┏━━━━━━━━━━━━━━━━━━━━━━━━━━━━━━━━━━━━━━┳━━━━━━━━━━━━━━━━━━━━━━━━━━━━━┳━━━━━━━━━━━━━━━━━┓\n",
              "┃\u001b[1m \u001b[0m\u001b[1mLayer (type)                        \u001b[0m\u001b[1m \u001b[0m┃\u001b[1m \u001b[0m\u001b[1mOutput Shape               \u001b[0m\u001b[1m \u001b[0m┃\u001b[1m \u001b[0m\u001b[1m        Param #\u001b[0m\u001b[1m \u001b[0m┃\n",
              "┡━━━━━━━━━━━━━━━━━━━━━━━━━━━━━━━━━━━━━━╇━━━━━━━━━━━━━━━━━━━━━━━━━━━━━╇━━━━━━━━━━━━━━━━━┩\n",
              "│ dense_17 (\u001b[38;5;33mDense\u001b[0m)                     │ (\u001b[38;5;45mNone\u001b[0m, \u001b[38;5;34m512\u001b[0m)                 │         \u001b[38;5;34m401,920\u001b[0m │\n",
              "├──────────────────────────────────────┼─────────────────────────────┼─────────────────┤\n",
              "│ dense_18 (\u001b[38;5;33mDense\u001b[0m)                     │ (\u001b[38;5;45mNone\u001b[0m, \u001b[38;5;34m256\u001b[0m)                 │         \u001b[38;5;34m131,328\u001b[0m │\n",
              "├──────────────────────────────────────┼─────────────────────────────┼─────────────────┤\n",
              "│ dense_19 (\u001b[38;5;33mDense\u001b[0m)                     │ (\u001b[38;5;45mNone\u001b[0m, \u001b[38;5;34m112\u001b[0m)                 │          \u001b[38;5;34m28,784\u001b[0m │\n",
              "├──────────────────────────────────────┼─────────────────────────────┼─────────────────┤\n",
              "│ dense_20 (\u001b[38;5;33mDense\u001b[0m)                     │ (\u001b[38;5;45mNone\u001b[0m, \u001b[38;5;34m56\u001b[0m)                  │           \u001b[38;5;34m6,328\u001b[0m │\n",
              "├──────────────────────────────────────┼─────────────────────────────┼─────────────────┤\n",
              "│ dense_21 (\u001b[38;5;33mDense\u001b[0m)                     │ (\u001b[38;5;45mNone\u001b[0m, \u001b[38;5;34m28\u001b[0m)                  │           \u001b[38;5;34m1,596\u001b[0m │\n",
              "├──────────────────────────────────────┼─────────────────────────────┼─────────────────┤\n",
              "│ dense_22 (\u001b[38;5;33mDense\u001b[0m)                     │ (\u001b[38;5;45mNone\u001b[0m, \u001b[38;5;34m10\u001b[0m)                  │             \u001b[38;5;34m290\u001b[0m │\n",
              "└──────────────────────────────────────┴─────────────────────────────┴─────────────────┘\n"
            ],
            "text/html": [
              "<pre style=\"white-space:pre;overflow-x:auto;line-height:normal;font-family:Menlo,'DejaVu Sans Mono',consolas,'Courier New',monospace\">┏━━━━━━━━━━━━━━━━━━━━━━━━━━━━━━━━━━━━━━┳━━━━━━━━━━━━━━━━━━━━━━━━━━━━━┳━━━━━━━━━━━━━━━━━┓\n",
              "┃<span style=\"font-weight: bold\"> Layer (type)                         </span>┃<span style=\"font-weight: bold\"> Output Shape                </span>┃<span style=\"font-weight: bold\">         Param # </span>┃\n",
              "┡━━━━━━━━━━━━━━━━━━━━━━━━━━━━━━━━━━━━━━╇━━━━━━━━━━━━━━━━━━━━━━━━━━━━━╇━━━━━━━━━━━━━━━━━┩\n",
              "│ dense_17 (<span style=\"color: #0087ff; text-decoration-color: #0087ff\">Dense</span>)                     │ (<span style=\"color: #00d7ff; text-decoration-color: #00d7ff\">None</span>, <span style=\"color: #00af00; text-decoration-color: #00af00\">512</span>)                 │         <span style=\"color: #00af00; text-decoration-color: #00af00\">401,920</span> │\n",
              "├──────────────────────────────────────┼─────────────────────────────┼─────────────────┤\n",
              "│ dense_18 (<span style=\"color: #0087ff; text-decoration-color: #0087ff\">Dense</span>)                     │ (<span style=\"color: #00d7ff; text-decoration-color: #00d7ff\">None</span>, <span style=\"color: #00af00; text-decoration-color: #00af00\">256</span>)                 │         <span style=\"color: #00af00; text-decoration-color: #00af00\">131,328</span> │\n",
              "├──────────────────────────────────────┼─────────────────────────────┼─────────────────┤\n",
              "│ dense_19 (<span style=\"color: #0087ff; text-decoration-color: #0087ff\">Dense</span>)                     │ (<span style=\"color: #00d7ff; text-decoration-color: #00d7ff\">None</span>, <span style=\"color: #00af00; text-decoration-color: #00af00\">112</span>)                 │          <span style=\"color: #00af00; text-decoration-color: #00af00\">28,784</span> │\n",
              "├──────────────────────────────────────┼─────────────────────────────┼─────────────────┤\n",
              "│ dense_20 (<span style=\"color: #0087ff; text-decoration-color: #0087ff\">Dense</span>)                     │ (<span style=\"color: #00d7ff; text-decoration-color: #00d7ff\">None</span>, <span style=\"color: #00af00; text-decoration-color: #00af00\">56</span>)                  │           <span style=\"color: #00af00; text-decoration-color: #00af00\">6,328</span> │\n",
              "├──────────────────────────────────────┼─────────────────────────────┼─────────────────┤\n",
              "│ dense_21 (<span style=\"color: #0087ff; text-decoration-color: #0087ff\">Dense</span>)                     │ (<span style=\"color: #00d7ff; text-decoration-color: #00d7ff\">None</span>, <span style=\"color: #00af00; text-decoration-color: #00af00\">28</span>)                  │           <span style=\"color: #00af00; text-decoration-color: #00af00\">1,596</span> │\n",
              "├──────────────────────────────────────┼─────────────────────────────┼─────────────────┤\n",
              "│ dense_22 (<span style=\"color: #0087ff; text-decoration-color: #0087ff\">Dense</span>)                     │ (<span style=\"color: #00d7ff; text-decoration-color: #00d7ff\">None</span>, <span style=\"color: #00af00; text-decoration-color: #00af00\">10</span>)                  │             <span style=\"color: #00af00; text-decoration-color: #00af00\">290</span> │\n",
              "└──────────────────────────────────────┴─────────────────────────────┴─────────────────┘\n",
              "</pre>\n"
            ]
          },
          "metadata": {}
        },
        {
          "output_type": "display_data",
          "data": {
            "text/plain": [
              "\u001b[1m Total params: \u001b[0m\u001b[38;5;34m1,710,740\u001b[0m (6.53 MB)\n"
            ],
            "text/html": [
              "<pre style=\"white-space:pre;overflow-x:auto;line-height:normal;font-family:Menlo,'DejaVu Sans Mono',consolas,'Courier New',monospace\"><span style=\"font-weight: bold\"> Total params: </span><span style=\"color: #00af00; text-decoration-color: #00af00\">1,710,740</span> (6.53 MB)\n",
              "</pre>\n"
            ]
          },
          "metadata": {}
        },
        {
          "output_type": "display_data",
          "data": {
            "text/plain": [
              "\u001b[1m Trainable params: \u001b[0m\u001b[38;5;34m570,246\u001b[0m (2.18 MB)\n"
            ],
            "text/html": [
              "<pre style=\"white-space:pre;overflow-x:auto;line-height:normal;font-family:Menlo,'DejaVu Sans Mono',consolas,'Courier New',monospace\"><span style=\"font-weight: bold\"> Trainable params: </span><span style=\"color: #00af00; text-decoration-color: #00af00\">570,246</span> (2.18 MB)\n",
              "</pre>\n"
            ]
          },
          "metadata": {}
        },
        {
          "output_type": "display_data",
          "data": {
            "text/plain": [
              "\u001b[1m Non-trainable params: \u001b[0m\u001b[38;5;34m0\u001b[0m (0.00 B)\n"
            ],
            "text/html": [
              "<pre style=\"white-space:pre;overflow-x:auto;line-height:normal;font-family:Menlo,'DejaVu Sans Mono',consolas,'Courier New',monospace\"><span style=\"font-weight: bold\"> Non-trainable params: </span><span style=\"color: #00af00; text-decoration-color: #00af00\">0</span> (0.00 B)\n",
              "</pre>\n"
            ]
          },
          "metadata": {}
        },
        {
          "output_type": "display_data",
          "data": {
            "text/plain": [
              "\u001b[1m Optimizer params: \u001b[0m\u001b[38;5;34m1,140,494\u001b[0m (4.35 MB)\n"
            ],
            "text/html": [
              "<pre style=\"white-space:pre;overflow-x:auto;line-height:normal;font-family:Menlo,'DejaVu Sans Mono',consolas,'Courier New',monospace\"><span style=\"font-weight: bold\"> Optimizer params: </span><span style=\"color: #00af00; text-decoration-color: #00af00\">1,140,494</span> (4.35 MB)\n",
              "</pre>\n"
            ]
          },
          "metadata": {}
        }
      ]
    },
    {
      "source": [
        "class_names = ['T-shirt/top', 'Trouser', 'Pullover', 'Dress', 'Coat',\n",
        "               'Sandal', 'Shirt', 'Sneaker', 'Bag', 'Ankle boot']"
      ],
      "cell_type": "code",
      "metadata": {
        "id": "UbLFQGPlxbqA"
      },
      "execution_count": 47,
      "outputs": []
    },
    {
      "source": [
        "from tensorflow.keras.utils import img_to_array\n",
        "from tensorflow.keras.utils import load_img\n",
        "import matplotlib.pyplot as plt\n",
        "import numpy as np\n",
        "\n",
        "# Update the path to the correct location of your image\n",
        "img_path = '/content/images (4).jpg'  # Replace with the actual path to your image\n",
        "# Or upload your image\n",
        "\n",
        "img = load_img(img_path, target_size=(28, 28), color_mode=\"grayscale\") # Resize to 28x28 and load as grayscale\n",
        "plt.imshow(img, cmap='gray') # Display the image in grayscale\n",
        "plt.show()\n",
        "img = img_to_array(img)\n",
        "\n",
        "img = img.reshape(1, 784)  # Reshape to (1, 784) to match the model's input shape\n",
        "img = img.astype('float32')\n",
        "img = img / 255.0\n",
        "\n",
        "predicted_class_index = np.argmax(model.predict(img), axis=1)[0]\n",
        "\n",
        "# Print the predicted class name\n",
        "print(\"Predicted class:\", class_names[predicted_class_index])"
      ],
      "cell_type": "code",
      "metadata": {
        "colab": {
          "base_uri": "https://localhost:8080/",
          "height": 465
        },
        "id": "HDmYw_ueyPMs",
        "outputId": "d5defa02-8d9b-40ec-b2c8-67faa53e86e0"
      },
      "execution_count": 98,
      "outputs": [
        {
          "output_type": "display_data",
          "data": {
            "text/plain": [
              "<Figure size 640x480 with 1 Axes>"
            ],
            "image/png": "[encoded data removed]"
          },
          "metadata": {}
        },
        {
          "output_type": "stream",
          "name": "stdout",
          "text": [
            "\u001b[1m1/1\u001b[0m \u001b[32m━━━━━━━━━━━━━━━━━━━━\u001b[0m\u001b[37m\u001b[0m \u001b[1m0s\u001b[0m 46ms/step\n",
            "Predicted class: Bag\n"
          ]
        }
      ]
    }
  ]
}